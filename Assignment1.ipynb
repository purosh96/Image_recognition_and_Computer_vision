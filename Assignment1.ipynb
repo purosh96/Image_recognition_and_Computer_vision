{
 "cells": [
  {
   "cell_type": "code",
   "execution_count": 1,
   "id": "6b7e6256",
   "metadata": {},
   "outputs": [],
   "source": [
    "from tensorflow import keras\n",
    "from tensorflow.keras.layers import Dense,Flatten,Conv2D,MaxPooling2D\n",
    "from tensorflow.keras.models import Sequential\n",
    "from tensorflow.keras.preprocessing import image "
   ]
  },
  {
   "cell_type": "code",
   "execution_count": 2,
   "id": "8ce50f25",
   "metadata": {},
   "outputs": [],
   "source": [
    "#Data\n",
    "Train_data_gen = image.ImageDataGenerator(rescale=1./255)\n",
    "Test_data_gen = image.ImageDataGenerator(rescale=1./255)"
   ]
  },
  {
   "cell_type": "code",
   "execution_count": 3,
   "id": "409cbcb5",
   "metadata": {},
   "outputs": [
    {
     "name": "stdout",
     "output_type": "stream",
     "text": [
      "Found 400 images belonging to 2 classes.\n"
     ]
    }
   ],
   "source": [
    "train_set = Train_data_gen.flow_from_directory(\"Photographs/train\",target_size=(150,150),class_mode=\"binary\")"
   ]
  },
  {
   "cell_type": "code",
   "execution_count": 4,
   "id": "39151425",
   "metadata": {},
   "outputs": [
    {
     "name": "stdout",
     "output_type": "stream",
     "text": [
      "Found 100 images belonging to 2 classes.\n"
     ]
    }
   ],
   "source": [
    "test_set = Test_data_gen.flow_from_directory(\"Photographs/test\",target_size=(150,150),class_mode=\"binary\")"
   ]
  },
  {
   "cell_type": "code",
   "execution_count": 5,
   "id": "f6fad775",
   "metadata": {},
   "outputs": [],
   "source": [
    "#Model"
   ]
  },
  {
   "cell_type": "code",
   "execution_count": 6,
   "id": "7ecf7419",
   "metadata": {},
   "outputs": [],
   "source": [
    "model = Sequential()"
   ]
  },
  {
   "cell_type": "code",
   "execution_count": 7,
   "id": "1b91da4c",
   "metadata": {},
   "outputs": [],
   "source": [
    "model.add(Conv2D(64,(3,3),input_shape=(150,150,3),activation=\"relu\"))\n",
    "model.add(MaxPooling2D((2,2)))\n",
    "model.add(Conv2D(64,(3,3),activation=\"relu\"))\n",
    "model.add(MaxPooling2D((2,2)))\n",
    "model.add(Conv2D(128,(3,3),activation=\"relu\"))\n",
    "model.add(MaxPooling2D((2,2)))\n",
    "model.add(Conv2D(128,(3,3),activation=\"relu\"))\n",
    "model.add(MaxPooling2D((2,2)))"
   ]
  },
  {
   "cell_type": "code",
   "execution_count": 8,
   "id": "3ca67ecc",
   "metadata": {},
   "outputs": [],
   "source": [
    "model.add(Flatten())"
   ]
  },
  {
   "cell_type": "code",
   "execution_count": 9,
   "id": "8a8feddf",
   "metadata": {},
   "outputs": [],
   "source": [
    "model.add(Dense(units=128,activation='relu'))\n",
    "model.add(Dense(units=64,activation='relu'))\n",
    "model.add(Dense(units=32,activation='relu'))\n",
    "model.add(Dense(units=12,activation='relu'))\n",
    "model.add(Dense(units=1,activation='sigmoid'))"
   ]
  },
  {
   "cell_type": "code",
   "execution_count": 10,
   "id": "c064a812",
   "metadata": {},
   "outputs": [
    {
     "name": "stdout",
     "output_type": "stream",
     "text": [
      "Model: \"sequential\"\n",
      "_________________________________________________________________\n",
      "Layer (type)                 Output Shape              Param #   \n",
      "=================================================================\n",
      "conv2d (Conv2D)              (None, 148, 148, 64)      1792      \n",
      "_________________________________________________________________\n",
      "max_pooling2d (MaxPooling2D) (None, 74, 74, 64)        0         \n",
      "_________________________________________________________________\n",
      "conv2d_1 (Conv2D)            (None, 72, 72, 64)        36928     \n",
      "_________________________________________________________________\n",
      "max_pooling2d_1 (MaxPooling2 (None, 36, 36, 64)        0         \n",
      "_________________________________________________________________\n",
      "conv2d_2 (Conv2D)            (None, 34, 34, 128)       73856     \n",
      "_________________________________________________________________\n",
      "max_pooling2d_2 (MaxPooling2 (None, 17, 17, 128)       0         \n",
      "_________________________________________________________________\n",
      "conv2d_3 (Conv2D)            (None, 15, 15, 128)       147584    \n",
      "_________________________________________________________________\n",
      "max_pooling2d_3 (MaxPooling2 (None, 7, 7, 128)         0         \n",
      "_________________________________________________________________\n",
      "flatten (Flatten)            (None, 6272)              0         \n",
      "_________________________________________________________________\n",
      "dense (Dense)                (None, 128)               802944    \n",
      "_________________________________________________________________\n",
      "dense_1 (Dense)              (None, 64)                8256      \n",
      "_________________________________________________________________\n",
      "dense_2 (Dense)              (None, 32)                2080      \n",
      "_________________________________________________________________\n",
      "dense_3 (Dense)              (None, 12)                396       \n",
      "_________________________________________________________________\n",
      "dense_4 (Dense)              (None, 1)                 13        \n",
      "=================================================================\n",
      "Total params: 1,073,849\n",
      "Trainable params: 1,073,849\n",
      "Non-trainable params: 0\n",
      "_________________________________________________________________\n"
     ]
    }
   ],
   "source": [
    "model.summary()"
   ]
  },
  {
   "cell_type": "code",
   "execution_count": 11,
   "id": "a75f6352",
   "metadata": {},
   "outputs": [],
   "source": [
    "model.compile(optimizer=\"adam\",loss=\"binary_crossentropy\",metrics=[\"accuracy\"])"
   ]
  },
  {
   "cell_type": "code",
   "execution_count": 13,
   "id": "a780a72f",
   "metadata": {},
   "outputs": [
    {
     "name": "stdout",
     "output_type": "stream",
     "text": [
      "Epoch 1/20\n",
      "13/13 [==============================] - 10s 793ms/step - loss: 0.0999 - accuracy: 0.9550 - val_loss: 0.1698 - val_accuracy: 0.9100\n",
      "Epoch 2/20\n",
      "13/13 [==============================] - 10s 760ms/step - loss: 0.0986 - accuracy: 0.9550 - val_loss: 0.2608 - val_accuracy: 0.9400\n",
      "Epoch 3/20\n",
      "13/13 [==============================] - 10s 769ms/step - loss: 0.1038 - accuracy: 0.9525 - val_loss: 0.2101 - val_accuracy: 0.9100\n",
      "Epoch 4/20\n",
      "13/13 [==============================] - 10s 794ms/step - loss: 0.0795 - accuracy: 0.9700 - val_loss: 0.3138 - val_accuracy: 0.9000\n",
      "Epoch 5/20\n",
      "13/13 [==============================] - 10s 794ms/step - loss: 0.0542 - accuracy: 0.9800 - val_loss: 0.2188 - val_accuracy: 0.9400\n",
      "Epoch 6/20\n",
      "13/13 [==============================] - 10s 777ms/step - loss: 0.0199 - accuracy: 0.9925 - val_loss: 0.2534 - val_accuracy: 0.9200\n",
      "Epoch 7/20\n",
      "13/13 [==============================] - 10s 800ms/step - loss: 0.0369 - accuracy: 0.9900 - val_loss: 0.1491 - val_accuracy: 0.9500\n",
      "Epoch 8/20\n",
      "13/13 [==============================] - 10s 758ms/step - loss: 0.0366 - accuracy: 0.9850 - val_loss: 0.3901 - val_accuracy: 0.9300\n",
      "Epoch 9/20\n",
      "13/13 [==============================] - 10s 763ms/step - loss: 0.0630 - accuracy: 0.9800 - val_loss: 0.4891 - val_accuracy: 0.8600\n",
      "Epoch 10/20\n",
      "13/13 [==============================] - 10s 751ms/step - loss: 0.1065 - accuracy: 0.9575 - val_loss: 0.2123 - val_accuracy: 0.8700\n",
      "Epoch 11/20\n",
      "13/13 [==============================] - 10s 749ms/step - loss: 0.0985 - accuracy: 0.9700 - val_loss: 0.1223 - val_accuracy: 0.9300\n",
      "Epoch 12/20\n",
      "13/13 [==============================] - 10s 755ms/step - loss: 0.0417 - accuracy: 0.9850 - val_loss: 0.2850 - val_accuracy: 0.9200\n",
      "Epoch 13/20\n",
      "13/13 [==============================] - 10s 768ms/step - loss: 0.1026 - accuracy: 0.9650 - val_loss: 0.9892 - val_accuracy: 0.8000\n",
      "Epoch 14/20\n",
      "13/13 [==============================] - 10s 750ms/step - loss: 0.2321 - accuracy: 0.9125 - val_loss: 0.3137 - val_accuracy: 0.8600\n",
      "Epoch 15/20\n",
      "13/13 [==============================] - 9s 731ms/step - loss: 0.0776 - accuracy: 0.9775 - val_loss: 0.0894 - val_accuracy: 0.9500\n",
      "Epoch 16/20\n",
      "13/13 [==============================] - 10s 760ms/step - loss: 0.0169 - accuracy: 0.9975 - val_loss: 0.3735 - val_accuracy: 0.9000\n",
      "Epoch 17/20\n",
      "13/13 [==============================] - 10s 778ms/step - loss: 0.0165 - accuracy: 0.9900 - val_loss: 0.2916 - val_accuracy: 0.9400\n",
      "Epoch 18/20\n",
      "13/13 [==============================] - 10s 768ms/step - loss: 0.0124 - accuracy: 0.9950 - val_loss: 0.2180 - val_accuracy: 0.9400\n",
      "Epoch 19/20\n",
      "13/13 [==============================] - 10s 751ms/step - loss: 0.0052 - accuracy: 1.0000 - val_loss: 0.2323 - val_accuracy: 0.9400\n",
      "Epoch 20/20\n",
      "13/13 [==============================] - 10s 737ms/step - loss: 0.0024 - accuracy: 1.0000 - val_loss: 0.2354 - val_accuracy: 0.9600\n"
     ]
    },
    {
     "data": {
      "text/plain": [
       "<tensorflow.python.keras.callbacks.History at 0x1f2b1b3c0c8>"
      ]
     },
     "execution_count": 13,
     "metadata": {},
     "output_type": "execute_result"
    }
   ],
   "source": [
    "model.fit(train_set,epochs=20,validation_data=test_set)"
   ]
  },
  {
   "cell_type": "code",
   "execution_count": 15,
   "id": "97ca50c1",
   "metadata": {},
   "outputs": [],
   "source": [
    "model.save('Assignment1.h5')"
   ]
  },
  {
   "cell_type": "code",
   "execution_count": 32,
   "id": "752650ff",
   "metadata": {},
   "outputs": [
    {
     "data": {
      "image/png": "[encoded data removed]",
      "text/plain": [
       "<PIL.Image.Image image mode=RGB size=150x150 at 0x1F2B46EFEC8>"
      ]
     },
     "execution_count": 32,
     "metadata": {},
     "output_type": "execute_result"
    }
   ],
   "source": [
    "test_image = image.load_img('Photographs\\\\validation\\\\indoor\\\\images261.jpg' ,target_size =(150,150))\n",
    "test_image"
   ]
  },
  {
   "cell_type": "code",
   "execution_count": 33,
   "id": "2f2929c3",
   "metadata": {},
   "outputs": [],
   "source": [
    "img = image.img_to_array(test_image)\n",
    "img = img.reshape(1,150,150,3)"
   ]
  },
  {
   "cell_type": "code",
   "execution_count": 34,
   "id": "92e5b29e",
   "metadata": {},
   "outputs": [],
   "source": [
    "result = model.predict(img)"
   ]
  },
  {
   "cell_type": "code",
   "execution_count": 35,
   "id": "c34c81cb",
   "metadata": {},
   "outputs": [
    {
     "data": {
      "text/plain": [
       "array([[0.]], dtype=float32)"
      ]
     },
     "execution_count": 35,
     "metadata": {},
     "output_type": "execute_result"
    }
   ],
   "source": [
    "result"
   ]
  },
  {
   "cell_type": "code",
   "execution_count": 36,
   "id": "ef8df7eb",
   "metadata": {},
   "outputs": [
    {
     "data": {
      "text/plain": [
       "{'indoor': 0, 'outdoor': 1}"
      ]
     },
     "execution_count": 36,
     "metadata": {},
     "output_type": "execute_result"
    }
   ],
   "source": [
    "train_set.class_indices"
   ]
  },
  {
   "cell_type": "code",
   "execution_count": 37,
   "id": "2408f148",
   "metadata": {},
   "outputs": [
    {
     "data": {
      "text/plain": [
       "'indoor'"
      ]
     },
     "execution_count": 37,
     "metadata": {},
     "output_type": "execute_result"
    }
   ],
   "source": [
    "if result == 1:\n",
    "    prediction = 'outdoor'\n",
    "else:\n",
    "    prediction = 'indoor'\n",
    "prediction"
   ]
  },
  {
   "cell_type": "code",
   "execution_count": null,
   "id": "840841c4",
   "metadata": {},
   "outputs": [],
   "source": []
  }
 ],
 "metadata": {
  "kernelspec": {
   "display_name": "Python 3 (ipykernel)",
   "language": "python",
   "name": "python3"
  },
  "language_info": {
   "codemirror_mode": {
    "name": "ipython",
    "version": 3
   },
   "file_extension": ".py",
   "mimetype": "text/x-python",
   "name": "python",
   "nbconvert_exporter": "python",
   "pygments_lexer": "ipython3",
   "version": "3.7.11"
  }
 },
 "nbformat": 4,
 "nbformat_minor": 5
}
