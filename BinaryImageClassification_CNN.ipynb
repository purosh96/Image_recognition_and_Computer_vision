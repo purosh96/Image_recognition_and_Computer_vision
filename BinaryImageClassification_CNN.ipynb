{
 "cells": [
  {
   "cell_type": "code",
   "execution_count": 1,
   "id": "3868ee64",
   "metadata": {},
   "outputs": [],
   "source": [
    "import tensorflow as tf\n",
    "#tf.__version__\n",
    "\n",
    "from tensorflow import keras\n",
    "from tensorflow.keras.models import Sequential\n",
    "from tensorflow.keras.layers import Dense,Flatten,Conv2D,MaxPooling2D"
   ]
  },
  {
   "cell_type": "code",
   "execution_count": 2,
   "id": "eca4964a",
   "metadata": {},
   "outputs": [],
   "source": [
    "#Data\n",
    "from tensorflow.keras.preprocessing import image"
   ]
  },
  {
   "cell_type": "code",
   "execution_count": 3,
   "id": "b1b58da1",
   "metadata": {},
   "outputs": [],
   "source": [
    "Train_data_gen = image.ImageDataGenerator(rescale=1./255)\n",
    "Test_data_gen = image.ImageDataGenerator(rescale=1./255)"
   ]
  },
  {
   "cell_type": "code",
   "execution_count": 4,
   "id": "80c3906e",
   "metadata": {},
   "outputs": [
    {
     "name": "stdout",
     "output_type": "stream",
     "text": [
      "Found 98 images belonging to 2 classes.\n"
     ]
    }
   ],
   "source": [
    "train_set = Train_data_gen.flow_from_directory(\"dataset/training\",target_size=(64,64),class_mode=\"binary\")"
   ]
  },
  {
   "cell_type": "code",
   "execution_count": 5,
   "id": "6d920cc4",
   "metadata": {},
   "outputs": [
    {
     "name": "stdout",
     "output_type": "stream",
     "text": [
      "Found 38 images belonging to 2 classes.\n"
     ]
    }
   ],
   "source": [
    "test_set = Test_data_gen.flow_from_directory(\"dataset/test\",target_size=(64,64),class_mode=\"binary\")"
   ]
  },
  {
   "cell_type": "code",
   "execution_count": 6,
   "id": "62a52cea",
   "metadata": {},
   "outputs": [
    {
     "data": {
      "text/plain": [
       "{'cats': 0, 'dogs': 1}"
      ]
     },
     "execution_count": 6,
     "metadata": {},
     "output_type": "execute_result"
    }
   ],
   "source": [
    "train_set.class_indices"
   ]
  },
  {
   "cell_type": "code",
   "execution_count": 21,
   "id": "4d0aba95",
   "metadata": {},
   "outputs": [],
   "source": [
    "classifier = Sequential()"
   ]
  },
  {
   "cell_type": "code",
   "execution_count": 22,
   "id": "afd21753",
   "metadata": {},
   "outputs": [],
   "source": [
    "## Convolution(64 feature detector of dimension 3 by 3), input shape 3 layer for color image)\n",
    "classifier.add(Conv2D(128,(3,3),input_shape = (64,64,3), activation = 'relu'))\n",
    "## MaxPooling\n",
    "classifier.add(MaxPooling2D(pool_size = (2,2)))\n",
    "## Add another layer\n",
    "classifier.add(Conv2D(64,(3,3), activation = 'relu'))\n",
    "classifier.add(MaxPooling2D(pool_size = (2,2)))\n",
    "\n",
    "## Add another layer\n",
    "classifier.add(Conv2D(64,(3,3), activation = 'relu'))\n",
    "classifier.add(MaxPooling2D(pool_size = (2,2)))"
   ]
  },
  {
   "cell_type": "code",
   "execution_count": 23,
   "id": "72a13a81",
   "metadata": {},
   "outputs": [],
   "source": [
    "classifier.add(Flatten())"
   ]
  },
  {
   "cell_type": "code",
   "execution_count": 25,
   "id": "69a58965",
   "metadata": {},
   "outputs": [],
   "source": [
    "classifier.add(Dense(units=128,activation='relu'))\n",
    "classifier.add(Dense(units=64,activation='relu'))\n",
    "classifier.add(Dense(units=32,activation='relu'))\n",
    "classifier.add(Dense(units=12,activation='relu'))\n",
    "classifier.add(Dense(units=1,activation='sigmoid'))"
   ]
  },
  {
   "cell_type": "code",
   "execution_count": 26,
   "id": "6918bc18",
   "metadata": {},
   "outputs": [
    {
     "name": "stdout",
     "output_type": "stream",
     "text": [
      "Model: \"sequential_2\"\n",
      "_________________________________________________________________\n",
      "Layer (type)                 Output Shape              Param #   \n",
      "=================================================================\n",
      "conv2d_4 (Conv2D)            (None, 62, 62, 128)       3584      \n",
      "_________________________________________________________________\n",
      "max_pooling2d (MaxPooling2D) (None, 31, 31, 128)       0         \n",
      "_________________________________________________________________\n",
      "conv2d_5 (Conv2D)            (None, 29, 29, 64)        73792     \n",
      "_________________________________________________________________\n",
      "max_pooling2d_1 (MaxPooling2 (None, 14, 14, 64)        0         \n",
      "_________________________________________________________________\n",
      "conv2d_6 (Conv2D)            (None, 12, 12, 64)        36928     \n",
      "_________________________________________________________________\n",
      "max_pooling2d_2 (MaxPooling2 (None, 6, 6, 64)          0         \n",
      "_________________________________________________________________\n",
      "flatten (Flatten)            (None, 2304)              0         \n",
      "_________________________________________________________________\n",
      "dense (Dense)                (None, 128)               295040    \n",
      "_________________________________________________________________\n",
      "dense_1 (Dense)              (None, 128)               16512     \n",
      "_________________________________________________________________\n",
      "dense_2 (Dense)              (None, 128)               16512     \n",
      "_________________________________________________________________\n",
      "dense_3 (Dense)              (None, 128)               16512     \n",
      "_________________________________________________________________\n",
      "dense_4 (Dense)              (None, 64)                8256      \n",
      "_________________________________________________________________\n",
      "dense_5 (Dense)              (None, 32)                2080      \n",
      "_________________________________________________________________\n",
      "dense_6 (Dense)              (None, 12)                396       \n",
      "_________________________________________________________________\n",
      "dense_7 (Dense)              (None, 1)                 13        \n",
      "=================================================================\n",
      "Total params: 469,625\n",
      "Trainable params: 469,625\n",
      "Non-trainable params: 0\n",
      "_________________________________________________________________\n"
     ]
    }
   ],
   "source": [
    "classifier.summary()"
   ]
  },
  {
   "cell_type": "code",
   "execution_count": 28,
   "id": "8ed65b9e",
   "metadata": {},
   "outputs": [],
   "source": [
    "classifier.compile(optimizer=\"adam\",loss=\"binary_crossentropy\",metrics=[\"accuracy\"])"
   ]
  },
  {
   "cell_type": "code",
   "execution_count": 30,
   "id": "3e81a6c3",
   "metadata": {
    "scrolled": true
   },
   "outputs": [
    {
     "name": "stdout",
     "output_type": "stream",
     "text": [
      "Epoch 1/100\n",
      "4/4 [==============================] - 1s 256ms/step - loss: 0.6935 - accuracy: 0.5000 - val_loss: 0.6933 - val_accuracy: 0.5000\n",
      "Epoch 2/100\n",
      "4/4 [==============================] - 1s 172ms/step - loss: 0.6933 - accuracy: 0.5000 - val_loss: 0.6931 - val_accuracy: 0.5000\n",
      "Epoch 3/100\n",
      "4/4 [==============================] - 1s 152ms/step - loss: 0.6927 - accuracy: 0.5000 - val_loss: 0.6931 - val_accuracy: 0.5789\n",
      "Epoch 4/100\n",
      "4/4 [==============================] - 1s 213ms/step - loss: 0.6933 - accuracy: 0.4898 - val_loss: 0.6934 - val_accuracy: 0.5000\n",
      "Epoch 5/100\n",
      "4/4 [==============================] - 1s 156ms/step - loss: 0.6929 - accuracy: 0.5000 - val_loss: 0.6948 - val_accuracy: 0.5000\n",
      "Epoch 6/100\n",
      "4/4 [==============================] - 1s 228ms/step - loss: 0.7017 - accuracy: 0.5000 - val_loss: 0.7023 - val_accuracy: 0.5000\n",
      "Epoch 7/100\n",
      "4/4 [==============================] - 1s 217ms/step - loss: 0.6952 - accuracy: 0.5000 - val_loss: 0.6931 - val_accuracy: 0.5000\n",
      "Epoch 8/100\n",
      "4/4 [==============================] - 1s 230ms/step - loss: 0.6929 - accuracy: 0.5000 - val_loss: 0.6930 - val_accuracy: 0.5000\n",
      "Epoch 9/100\n",
      "4/4 [==============================] - 1s 230ms/step - loss: 0.6930 - accuracy: 0.5000 - val_loss: 0.6931 - val_accuracy: 0.5000\n",
      "Epoch 10/100\n",
      "4/4 [==============================] - 1s 161ms/step - loss: 0.6931 - accuracy: 0.5000 - val_loss: 0.6931 - val_accuracy: 0.5000\n",
      "Epoch 11/100\n",
      "4/4 [==============================] - 1s 173ms/step - loss: 0.6930 - accuracy: 0.5000 - val_loss: 0.6931 - val_accuracy: 0.5000\n",
      "Epoch 12/100\n",
      "4/4 [==============================] - 1s 160ms/step - loss: 0.6930 - accuracy: 0.5000 - val_loss: 0.6930 - val_accuracy: 0.5000\n",
      "Epoch 13/100\n",
      "4/4 [==============================] - 1s 170ms/step - loss: 0.6930 - accuracy: 0.5000 - val_loss: 0.6930 - val_accuracy: 0.5000\n",
      "Epoch 14/100\n",
      "4/4 [==============================] - 1s 176ms/step - loss: 0.6929 - accuracy: 0.5000 - val_loss: 0.6930 - val_accuracy: 0.5000\n",
      "Epoch 15/100\n",
      "4/4 [==============================] - 1s 159ms/step - loss: 0.6928 - accuracy: 0.5000 - val_loss: 0.6929 - val_accuracy: 0.5000\n",
      "Epoch 16/100\n",
      "4/4 [==============================] - 1s 175ms/step - loss: 0.6928 - accuracy: 0.5000 - val_loss: 0.6929 - val_accuracy: 0.5000\n",
      "Epoch 17/100\n",
      "4/4 [==============================] - 1s 165ms/step - loss: 0.6926 - accuracy: 0.5000 - val_loss: 0.6926 - val_accuracy: 0.5000\n",
      "Epoch 18/100\n",
      "4/4 [==============================] - 1s 172ms/step - loss: 0.6930 - accuracy: 0.5000 - val_loss: 0.6921 - val_accuracy: 0.5000\n",
      "Epoch 19/100\n",
      "4/4 [==============================] - 1s 225ms/step - loss: 0.6925 - accuracy: 0.5000 - val_loss: 0.6925 - val_accuracy: 0.5000\n",
      "Epoch 20/100\n",
      "4/4 [==============================] - 1s 215ms/step - loss: 0.6921 - accuracy: 0.5000 - val_loss: 0.6927 - val_accuracy: 0.5000\n",
      "Epoch 21/100\n",
      "4/4 [==============================] - 1s 173ms/step - loss: 0.6920 - accuracy: 0.5000 - val_loss: 0.6926 - val_accuracy: 0.5000\n",
      "Epoch 22/100\n",
      "4/4 [==============================] - 1s 223ms/step - loss: 0.6914 - accuracy: 0.5000 - val_loss: 0.6920 - val_accuracy: 0.5000\n",
      "Epoch 23/100\n",
      "4/4 [==============================] - 1s 225ms/step - loss: 0.6899 - accuracy: 0.5000 - val_loss: 0.6907 - val_accuracy: 0.5000\n",
      "Epoch 24/100\n",
      "4/4 [==============================] - 1s 235ms/step - loss: 0.6891 - accuracy: 0.6429 - val_loss: 0.6915 - val_accuracy: 0.7368\n",
      "Epoch 25/100\n",
      "4/4 [==============================] - 1s 183ms/step - loss: 0.6857 - accuracy: 0.7449 - val_loss: 0.6874 - val_accuracy: 0.5000\n",
      "Epoch 26/100\n",
      "4/4 [==============================] - 1s 235ms/step - loss: 0.6819 - accuracy: 0.5000 - val_loss: 0.6876 - val_accuracy: 0.5000\n",
      "Epoch 27/100\n",
      "4/4 [==============================] - 1s 178ms/step - loss: 0.6912 - accuracy: 0.5102 - val_loss: 0.7160 - val_accuracy: 0.5000\n",
      "Epoch 28/100\n",
      "4/4 [==============================] - 1s 177ms/step - loss: 0.6543 - accuracy: 0.5102 - val_loss: 0.7231 - val_accuracy: 0.5263\n",
      "Epoch 29/100\n",
      "4/4 [==============================] - 1s 217ms/step - loss: 0.7406 - accuracy: 0.5306 - val_loss: 0.7098 - val_accuracy: 0.5000\n",
      "Epoch 30/100\n",
      "4/4 [==============================] - 1s 172ms/step - loss: 0.6624 - accuracy: 0.6327 - val_loss: 0.7026 - val_accuracy: 0.4737\n",
      "Epoch 31/100\n",
      "4/4 [==============================] - 1s 152ms/step - loss: 0.6860 - accuracy: 0.5306 - val_loss: 0.6973 - val_accuracy: 0.4737\n",
      "Epoch 32/100\n",
      "4/4 [==============================] - 1s 168ms/step - loss: 0.6535 - accuracy: 0.7245 - val_loss: 0.6650 - val_accuracy: 0.6053\n",
      "Epoch 33/100\n",
      "4/4 [==============================] - 1s 224ms/step - loss: 0.6253 - accuracy: 0.5714 - val_loss: 0.6568 - val_accuracy: 0.5526\n",
      "Epoch 34/100\n",
      "4/4 [==============================] - 1s 178ms/step - loss: 0.6163 - accuracy: 0.5816 - val_loss: 0.6708 - val_accuracy: 0.5263\n",
      "Epoch 35/100\n",
      "4/4 [==============================] - 1s 229ms/step - loss: 0.6181 - accuracy: 0.5816 - val_loss: 0.6825 - val_accuracy: 0.5263\n",
      "Epoch 36/100\n",
      "4/4 [==============================] - 1s 179ms/step - loss: 0.5266 - accuracy: 0.7245 - val_loss: 1.1326 - val_accuracy: 0.5789\n",
      "Epoch 37/100\n",
      "4/4 [==============================] - 1s 170ms/step - loss: 0.5450 - accuracy: 0.7347 - val_loss: 0.7698 - val_accuracy: 0.5263\n",
      "Epoch 38/100\n",
      "4/4 [==============================] - 1s 218ms/step - loss: 0.9674 - accuracy: 0.5204 - val_loss: 0.6778 - val_accuracy: 0.5526\n",
      "Epoch 39/100\n",
      "4/4 [==============================] - 1s 175ms/step - loss: 0.5631 - accuracy: 0.6939 - val_loss: 0.6589 - val_accuracy: 0.6842\n",
      "Epoch 40/100\n",
      "4/4 [==============================] - 1s 174ms/step - loss: 0.5890 - accuracy: 0.7143 - val_loss: 0.6897 - val_accuracy: 0.6316\n",
      "Epoch 41/100\n",
      "4/4 [==============================] - 1s 226ms/step - loss: 0.6461 - accuracy: 0.6224 - val_loss: 1.3922 - val_accuracy: 0.4737\n",
      "Epoch 42/100\n",
      "4/4 [==============================] - 1s 157ms/step - loss: 0.6381 - accuracy: 0.6837 - val_loss: 0.7565 - val_accuracy: 0.5000\n",
      "Epoch 43/100\n",
      "4/4 [==============================] - 1s 158ms/step - loss: 0.5626 - accuracy: 0.6531 - val_loss: 0.7016 - val_accuracy: 0.5789\n",
      "Epoch 44/100\n",
      "4/4 [==============================] - 1s 175ms/step - loss: 0.5372 - accuracy: 0.7755 - val_loss: 0.7458 - val_accuracy: 0.5263\n",
      "Epoch 45/100\n",
      "4/4 [==============================] - 1s 171ms/step - loss: 0.5313 - accuracy: 0.7449 - val_loss: 0.7222 - val_accuracy: 0.5000\n",
      "Epoch 46/100\n",
      "4/4 [==============================] - 1s 163ms/step - loss: 0.5195 - accuracy: 0.7653 - val_loss: 0.9459 - val_accuracy: 0.5000\n",
      "Epoch 47/100\n",
      "4/4 [==============================] - 1s 226ms/step - loss: 0.4891 - accuracy: 0.7755 - val_loss: 0.6948 - val_accuracy: 0.5789\n",
      "Epoch 48/100\n",
      "4/4 [==============================] - 1s 172ms/step - loss: 0.4675 - accuracy: 0.7653 - val_loss: 0.7760 - val_accuracy: 0.5789\n",
      "Epoch 49/100\n",
      "4/4 [==============================] - 1s 160ms/step - loss: 0.4677 - accuracy: 0.7857 - val_loss: 1.0775 - val_accuracy: 0.5526\n",
      "Epoch 50/100\n",
      "4/4 [==============================] - 1s 221ms/step - loss: 0.4350 - accuracy: 0.7857 - val_loss: 1.0609 - val_accuracy: 0.6053\n",
      "Epoch 51/100\n",
      "4/4 [==============================] - 1s 215ms/step - loss: 0.3839 - accuracy: 0.8061 - val_loss: 1.1712 - val_accuracy: 0.6316\n",
      "Epoch 52/100\n",
      "4/4 [==============================] - 1s 221ms/step - loss: 0.3518 - accuracy: 0.8469 - val_loss: 1.1481 - val_accuracy: 0.6053\n",
      "Epoch 53/100\n",
      "4/4 [==============================] - 1s 221ms/step - loss: 0.3969 - accuracy: 0.8469 - val_loss: 0.9086 - val_accuracy: 0.6053\n",
      "Epoch 54/100\n",
      "4/4 [==============================] - 1s 219ms/step - loss: 0.3203 - accuracy: 0.9286 - val_loss: 1.0308 - val_accuracy: 0.6316\n",
      "Epoch 55/100\n",
      "4/4 [==============================] - 1s 223ms/step - loss: 0.2159 - accuracy: 0.9490 - val_loss: 1.5232 - val_accuracy: 0.5526\n",
      "Epoch 56/100\n",
      "4/4 [==============================] - 1s 229ms/step - loss: 0.2873 - accuracy: 0.8776 - val_loss: 1.1661 - val_accuracy: 0.5789\n",
      "Epoch 57/100\n",
      "4/4 [==============================] - 1s 180ms/step - loss: 0.2022 - accuracy: 0.8878 - val_loss: 0.8650 - val_accuracy: 0.6579\n",
      "Epoch 58/100\n",
      "4/4 [==============================] - 1s 176ms/step - loss: 0.2076 - accuracy: 0.8980 - val_loss: 1.4076 - val_accuracy: 0.5789\n"
     ]
    },
    {
     "name": "stdout",
     "output_type": "stream",
     "text": [
      "Epoch 59/100\n",
      "4/4 [==============================] - 1s 178ms/step - loss: 0.1032 - accuracy: 0.9694 - val_loss: 1.4107 - val_accuracy: 0.6842\n",
      "Epoch 60/100\n",
      "4/4 [==============================] - 1s 177ms/step - loss: 0.1038 - accuracy: 0.9592 - val_loss: 1.6804 - val_accuracy: 0.6842\n",
      "Epoch 61/100\n",
      "4/4 [==============================] - 1s 182ms/step - loss: 0.0481 - accuracy: 0.9796 - val_loss: 1.7482 - val_accuracy: 0.7105\n",
      "Epoch 62/100\n",
      "4/4 [==============================] - 1s 230ms/step - loss: 0.4988 - accuracy: 0.8878 - val_loss: 1.4378 - val_accuracy: 0.6316\n",
      "Epoch 63/100\n",
      "4/4 [==============================] - 1s 227ms/step - loss: 0.3452 - accuracy: 0.8265 - val_loss: 0.8600 - val_accuracy: 0.6316\n",
      "Epoch 64/100\n",
      "4/4 [==============================] - 1s 156ms/step - loss: 0.2417 - accuracy: 0.8980 - val_loss: 0.8024 - val_accuracy: 0.6842\n",
      "Epoch 65/100\n",
      "4/4 [==============================] - 1s 220ms/step - loss: 0.2760 - accuracy: 0.9184 - val_loss: 1.0677 - val_accuracy: 0.6316\n",
      "Epoch 66/100\n",
      "4/4 [==============================] - 1s 171ms/step - loss: 0.1906 - accuracy: 0.9082 - val_loss: 1.4482 - val_accuracy: 0.6316\n",
      "Epoch 67/100\n",
      "4/4 [==============================] - 1s 170ms/step - loss: 0.1322 - accuracy: 0.9388 - val_loss: 1.8311 - val_accuracy: 0.6579\n",
      "Epoch 68/100\n",
      "4/4 [==============================] - 1s 178ms/step - loss: 0.1229 - accuracy: 0.9490 - val_loss: 2.2621 - val_accuracy: 0.6316\n",
      "Epoch 69/100\n",
      "4/4 [==============================] - 1s 221ms/step - loss: 0.1135 - accuracy: 0.9796 - val_loss: 2.3697 - val_accuracy: 0.6053\n",
      "Epoch 70/100\n",
      "4/4 [==============================] - 1s 173ms/step - loss: 0.0343 - accuracy: 1.0000 - val_loss: 2.1307 - val_accuracy: 0.6053\n",
      "Epoch 71/100\n",
      "4/4 [==============================] - 1s 174ms/step - loss: 0.0265 - accuracy: 1.0000 - val_loss: 2.6346 - val_accuracy: 0.6316\n",
      "Epoch 72/100\n",
      "4/4 [==============================] - 1s 169ms/step - loss: 0.0275 - accuracy: 1.0000 - val_loss: 2.9091 - val_accuracy: 0.6316\n",
      "Epoch 73/100\n",
      "4/4 [==============================] - 1s 183ms/step - loss: 0.0196 - accuracy: 1.0000 - val_loss: 3.0717 - val_accuracy: 0.6053\n",
      "Epoch 74/100\n",
      "4/4 [==============================] - 1s 215ms/step - loss: 0.0194 - accuracy: 1.0000 - val_loss: 3.4774 - val_accuracy: 0.5526\n",
      "Epoch 75/100\n",
      "4/4 [==============================] - 1s 170ms/step - loss: 0.0040 - accuracy: 1.0000 - val_loss: 4.2926 - val_accuracy: 0.6579\n",
      "Epoch 76/100\n",
      "4/4 [==============================] - 1s 219ms/step - loss: 0.0050 - accuracy: 1.0000 - val_loss: 4.8251 - val_accuracy: 0.6316\n",
      "Epoch 77/100\n",
      "4/4 [==============================] - 1s 177ms/step - loss: 0.0047 - accuracy: 1.0000 - val_loss: 5.0957 - val_accuracy: 0.6316\n",
      "Epoch 78/100\n",
      "4/4 [==============================] - 1s 170ms/step - loss: 0.0024 - accuracy: 1.0000 - val_loss: 5.1207 - val_accuracy: 0.6053\n",
      "Epoch 79/100\n",
      "4/4 [==============================] - 1s 230ms/step - loss: 6.6517e-04 - accuracy: 1.0000 - val_loss: 5.0147 - val_accuracy: 0.6053\n",
      "Epoch 80/100\n",
      "4/4 [==============================] - 1s 194ms/step - loss: 4.7333e-04 - accuracy: 1.0000 - val_loss: 4.9352 - val_accuracy: 0.6053\n",
      "Epoch 81/100\n",
      "4/4 [==============================] - 1s 232ms/step - loss: 0.0044 - accuracy: 1.0000 - val_loss: 5.0167 - val_accuracy: 0.6053\n",
      "Epoch 82/100\n",
      "4/4 [==============================] - 1s 239ms/step - loss: 3.2402e-04 - accuracy: 1.0000 - val_loss: 5.2414 - val_accuracy: 0.6316\n",
      "Epoch 83/100\n",
      "4/4 [==============================] - 1s 226ms/step - loss: 8.7182e-04 - accuracy: 1.0000 - val_loss: 5.4712 - val_accuracy: 0.6316\n",
      "Epoch 84/100\n",
      "4/4 [==============================] - 1s 189ms/step - loss: 0.0017 - accuracy: 1.0000 - val_loss: 5.8328 - val_accuracy: 0.5789\n",
      "Epoch 85/100\n",
      "4/4 [==============================] - 1s 191ms/step - loss: 0.0025 - accuracy: 1.0000 - val_loss: 5.7768 - val_accuracy: 0.5789\n",
      "Epoch 86/100\n",
      "4/4 [==============================] - 1s 183ms/step - loss: 0.0012 - accuracy: 1.0000 - val_loss: 5.5449 - val_accuracy: 0.5789\n",
      "Epoch 87/100\n",
      "4/4 [==============================] - 1s 158ms/step - loss: 0.0010 - accuracy: 1.0000 - val_loss: 5.3569 - val_accuracy: 0.5789\n",
      "Epoch 88/100\n",
      "4/4 [==============================] - 1s 178ms/step - loss: 7.1617e-04 - accuracy: 1.0000 - val_loss: 5.2609 - val_accuracy: 0.5789\n",
      "Epoch 89/100\n",
      "4/4 [==============================] - 1s 188ms/step - loss: 4.9717e-04 - accuracy: 1.0000 - val_loss: 5.2171 - val_accuracy: 0.5789\n",
      "Epoch 90/100\n",
      "4/4 [==============================] - 1s 177ms/step - loss: 4.4394e-04 - accuracy: 1.0000 - val_loss: 5.2012 - val_accuracy: 0.5789\n",
      "Epoch 91/100\n",
      "4/4 [==============================] - 1s 152ms/step - loss: 3.5766e-04 - accuracy: 1.0000 - val_loss: 5.1986 - val_accuracy: 0.5789\n",
      "Epoch 92/100\n",
      "4/4 [==============================] - 1s 178ms/step - loss: 3.1372e-04 - accuracy: 1.0000 - val_loss: 5.1998 - val_accuracy: 0.5789\n",
      "Epoch 93/100\n",
      "4/4 [==============================] - 1s 163ms/step - loss: 2.8107e-04 - accuracy: 1.0000 - val_loss: 5.2065 - val_accuracy: 0.5789\n",
      "Epoch 94/100\n",
      "4/4 [==============================] - 1s 210ms/step - loss: 2.4447e-04 - accuracy: 1.0000 - val_loss: 5.2170 - val_accuracy: 0.6053\n",
      "Epoch 95/100\n",
      "4/4 [==============================] - 1s 171ms/step - loss: 2.2531e-04 - accuracy: 1.0000 - val_loss: 5.2294 - val_accuracy: 0.6053\n",
      "Epoch 96/100\n",
      "4/4 [==============================] - 1s 213ms/step - loss: 2.0968e-04 - accuracy: 1.0000 - val_loss: 5.2443 - val_accuracy: 0.6053\n",
      "Epoch 97/100\n",
      "4/4 [==============================] - 1s 155ms/step - loss: 2.0273e-04 - accuracy: 1.0000 - val_loss: 5.2609 - val_accuracy: 0.6316\n",
      "Epoch 98/100\n",
      "4/4 [==============================] - 1s 147ms/step - loss: 1.9051e-04 - accuracy: 1.0000 - val_loss: 5.2780 - val_accuracy: 0.6316\n",
      "Epoch 99/100\n",
      "4/4 [==============================] - 1s 180ms/step - loss: 1.7952e-04 - accuracy: 1.0000 - val_loss: 5.2935 - val_accuracy: 0.6316\n",
      "Epoch 100/100\n",
      "4/4 [==============================] - 1s 169ms/step - loss: 1.7238e-04 - accuracy: 1.0000 - val_loss: 5.3124 - val_accuracy: 0.6316\n"
     ]
    },
    {
     "data": {
      "text/plain": [
       "<tensorflow.python.keras.callbacks.History at 0x23187ac71c8>"
      ]
     },
     "execution_count": 30,
     "metadata": {},
     "output_type": "execute_result"
    }
   ],
   "source": [
    "classifier.fit(train_set,epochs=100,validation_data=test_set)"
   ]
  },
  {
   "cell_type": "code",
   "execution_count": 31,
   "id": "8d709e98",
   "metadata": {},
   "outputs": [],
   "source": [
    "classifier.save('Model.h5')"
   ]
  },
  {
   "cell_type": "code",
   "execution_count": 46,
   "id": "416bec6e",
   "metadata": {},
   "outputs": [],
   "source": [
    "test_image = image.load_img('dataset\\\\inference\\\\cat1.jpg' ,target_size =(64,64))"
   ]
  },
  {
   "cell_type": "code",
   "execution_count": 47,
   "id": "976f15dd",
   "metadata": {},
   "outputs": [
    {
     "data": {
      "image/png": "[encoded data removed]",
      "text/plain": [
       "<PIL.Image.Image image mode=RGB size=64x64 at 0x231896D5508>"
      ]
     },
     "execution_count": 47,
     "metadata": {},
     "output_type": "execute_result"
    }
   ],
   "source": [
    "test_image"
   ]
  },
  {
   "cell_type": "code",
   "execution_count": 48,
   "id": "b5cd6f6d",
   "metadata": {},
   "outputs": [],
   "source": [
    "test_image = image.img_to_array(test_image)"
   ]
  },
  {
   "cell_type": "code",
   "execution_count": 49,
   "id": "8428e480",
   "metadata": {},
   "outputs": [],
   "source": [
    "test_image=test_image.reshape(1,64,64,3)"
   ]
  },
  {
   "cell_type": "code",
   "execution_count": 50,
   "id": "285282f7",
   "metadata": {},
   "outputs": [],
   "source": [
    "result = classifier.predict(test_image)"
   ]
  },
  {
   "cell_type": "code",
   "execution_count": 51,
   "id": "bfd9fe41",
   "metadata": {},
   "outputs": [
    {
     "data": {
      "text/plain": [
       "array([[0.]], dtype=float32)"
      ]
     },
     "execution_count": 51,
     "metadata": {},
     "output_type": "execute_result"
    }
   ],
   "source": [
    "result"
   ]
  },
  {
   "cell_type": "code",
   "execution_count": 52,
   "id": "3224ee2e",
   "metadata": {},
   "outputs": [
    {
     "data": {
      "text/plain": [
       "'cat'"
      ]
     },
     "execution_count": 52,
     "metadata": {},
     "output_type": "execute_result"
    }
   ],
   "source": [
    "if result == 1:\n",
    "    prediction = 'dog'\n",
    "else:\n",
    "    prediction = 'cat'\n",
    "prediction"
   ]
  },
  {
   "cell_type": "code",
   "execution_count": null,
   "id": "0b3fa782",
   "metadata": {},
   "outputs": [],
   "source": []
  },
  {
   "cell_type": "code",
   "execution_count": null,
   "id": "e11e0680",
   "metadata": {},
   "outputs": [],
   "source": []
  }
 ],
 "metadata": {
  "kernelspec": {
   "display_name": "Python 3 (ipykernel)",
   "language": "python",
   "name": "python3"
  },
  "language_info": {
   "codemirror_mode": {
    "name": "ipython",
    "version": 3
   },
   "file_extension": ".py",
   "mimetype": "text/x-python",
   "name": "python",
   "nbconvert_exporter": "python",
   "pygments_lexer": "ipython3",
   "version": "3.7.11"
  }
 },
 "nbformat": 4,
 "nbformat_minor": 5
}
